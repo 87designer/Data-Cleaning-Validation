{
 "cells": [
  {
   "cell_type": "markdown",
   "metadata": {},
   "source": [
    "# Data cleaning & validation"
   ]
  },
  {
   "cell_type": "code",
   "execution_count": 1,
   "metadata": {},
   "outputs": [],
   "source": [
    "import pandas as pd\n",
    "%matplotlib inline\n",
    "import re\n",
    "import string\n",
    "import nltk\n",
    "from nltk.corpus import stopwords\n",
    "stop = stopwords.words('english')"
   ]
  },
  {
   "cell_type": "markdown",
   "metadata": {},
   "source": [
    "### Load the Dataset"
   ]
  },
  {
   "cell_type": "code",
   "execution_count": 2,
   "metadata": {},
   "outputs": [
    {
     "data": {
      "text/html": [
       "<div>\n",
       "<style scoped>\n",
       "    .dataframe tbody tr th:only-of-type {\n",
       "        vertical-align: middle;\n",
       "    }\n",
       "\n",
       "    .dataframe tbody tr th {\n",
       "        vertical-align: top;\n",
       "    }\n",
       "\n",
       "    .dataframe thead th {\n",
       "        text-align: right;\n",
       "    }\n",
       "</style>\n",
       "<table border=\"1\" class=\"dataframe\">\n",
       "  <thead>\n",
       "    <tr style=\"text-align: right;\">\n",
       "      <th></th>\n",
       "      <th>PMID/PMCID</th>\n",
       "      <th>Publisher</th>\n",
       "      <th>Journal title</th>\n",
       "      <th>Article title</th>\n",
       "      <th>COST (£) charged to Wellcome (inc VAT when charged)</th>\n",
       "    </tr>\n",
       "  </thead>\n",
       "  <tbody>\n",
       "    <tr>\n",
       "      <th>0</th>\n",
       "      <td>NaN</td>\n",
       "      <td>CUP</td>\n",
       "      <td>Psychological Medicine</td>\n",
       "      <td>Reduced parahippocampal cortical thickness in ...</td>\n",
       "      <td>£0.00</td>\n",
       "    </tr>\n",
       "    <tr>\n",
       "      <th>1</th>\n",
       "      <td>PMC3679557</td>\n",
       "      <td>ACS</td>\n",
       "      <td>Biomacromolecules</td>\n",
       "      <td>Structural characterization of a Model Gram-ne...</td>\n",
       "      <td>£2381.04</td>\n",
       "    </tr>\n",
       "    <tr>\n",
       "      <th>2</th>\n",
       "      <td>23043264  PMC3506128</td>\n",
       "      <td>ACS</td>\n",
       "      <td>J Med Chem</td>\n",
       "      <td>Fumaroylamino-4,5-epoxymorphinans and related ...</td>\n",
       "      <td>£642.56</td>\n",
       "    </tr>\n",
       "    <tr>\n",
       "      <th>3</th>\n",
       "      <td>23438330 PMC3646402</td>\n",
       "      <td>ACS</td>\n",
       "      <td>J Med Chem</td>\n",
       "      <td>Orvinols with mixed kappa/mu opioid receptor a...</td>\n",
       "      <td>£669.64</td>\n",
       "    </tr>\n",
       "    <tr>\n",
       "      <th>4</th>\n",
       "      <td>23438216 PMC3601604</td>\n",
       "      <td>ACS</td>\n",
       "      <td>J Org Chem</td>\n",
       "      <td>Regioselective opening of myo-inositol orthoes...</td>\n",
       "      <td>£685.88</td>\n",
       "    </tr>\n",
       "  </tbody>\n",
       "</table>\n",
       "</div>"
      ],
      "text/plain": [
       "              PMID/PMCID Publisher           Journal title  \\\n",
       "0                    NaN       CUP  Psychological Medicine   \n",
       "1             PMC3679557       ACS       Biomacromolecules   \n",
       "2  23043264  PMC3506128        ACS              J Med Chem   \n",
       "3    23438330 PMC3646402       ACS              J Med Chem   \n",
       "4   23438216 PMC3601604        ACS              J Org Chem   \n",
       "\n",
       "                                       Article title  \\\n",
       "0  Reduced parahippocampal cortical thickness in ...   \n",
       "1  Structural characterization of a Model Gram-ne...   \n",
       "2  Fumaroylamino-4,5-epoxymorphinans and related ...   \n",
       "3  Orvinols with mixed kappa/mu opioid receptor a...   \n",
       "4  Regioselective opening of myo-inositol orthoes...   \n",
       "\n",
       "  COST (£) charged to Wellcome (inc VAT when charged)  \n",
       "0                                              £0.00   \n",
       "1                                           £2381.04   \n",
       "2                                            £642.56   \n",
       "3                                            £669.64   \n",
       "4                                            £685.88   "
      ]
     },
     "execution_count": 2,
     "metadata": {},
     "output_type": "execute_result"
    }
   ],
   "source": [
    "# Experienced an encoding error when loading the file.\n",
    "# Will have to test to determine the files encoding so that it can be decoded.\n",
    "# Installed & Ran chardet: the universal character encoding detector in command line\n",
    "# Found .csv file to be Windows-1254 with confidence 0.49887422177203866\n",
    "# The detected encoding didn't work, I tried a few other and found the correct one ISO-8859-1.\n",
    "\n",
    "# Dataset read succesfully\n",
    "data = pd.read_csv(\"WELLCOME_APC.csv\", encoding='ISO-8859-1')\n",
    "data.head()"
   ]
  },
  {
   "cell_type": "code",
   "execution_count": 3,
   "metadata": {},
   "outputs": [
    {
     "name": "stdout",
     "output_type": "stream",
     "text": [
      "PMID/PMCID                                             object\n",
      "Publisher                                              object\n",
      "Journal title                                          object\n",
      "Article title                                          object\n",
      "COST (£) charged to Wellcome (inc VAT when charged)    object\n",
      "dtype: object\n",
      "\n",
      "<class 'pandas.core.frame.DataFrame'>\n",
      "RangeIndex: 2127 entries, 0 to 2126\n",
      "Data columns (total 5 columns):\n",
      "PMID/PMCID                                             1928 non-null object\n",
      "Publisher                                              2127 non-null object\n",
      "Journal title                                          2126 non-null object\n",
      "Article title                                          2127 non-null object\n",
      "COST (£) charged to Wellcome (inc VAT when charged)    2127 non-null object\n",
      "dtypes: object(5)\n",
      "memory usage: 83.2+ KB\n",
      "None\n"
     ]
    }
   ],
   "source": [
    "# Get column names / types\n",
    "print(data.dtypes)\n",
    "print()\n",
    "print(data.info())"
   ]
  },
  {
   "cell_type": "markdown",
   "metadata": {},
   "source": [
    "### 1. Determine the five most common journals and the total articles for each."
   ]
  },
  {
   "attachments": {},
   "cell_type": "markdown",
   "metadata": {},
   "source": [
    "First we will need to clean up the journal names.\n",
    "\n",
    "Due to the fact that the readme file included with the dataset indicated that name authority control was not imposed on \"Journal title\"."
   ]
  },
  {
   "cell_type": "code",
   "execution_count": 4,
   "metadata": {},
   "outputs": [
    {
     "data": {
      "text/plain": [
       "PLOS ONE                        191\n",
       "JOURNAL BIOLOGICAL CHEMISTRY     51\n",
       "NEUROIMAGE                       29\n",
       "NUCLEIC ACIDS RESEARCH           26\n",
       "PLOS PATHOGENS                   24\n",
       "PLOS GENETICS                    24\n",
       "Name: journal_cleaned, dtype: int64"
      ]
     },
     "execution_count": 4,
     "metadata": {},
     "output_type": "execute_result"
    }
   ],
   "source": [
    "# Fill the Nan to avoid errors\n",
    "data['Journal title'] = data['Journal title'].fillna('')\n",
    "# Remove numbers from journal title\n",
    "data['journal_cleaned'] = data['Journal title'].str.replace('\\d+', '')\n",
    "# Remove punctuation from journal\n",
    "data['journal_cleaned'] = data['journal_cleaned'].str.replace('[^\\w\\s]','')\n",
    "# Remove leading/trailing spaces from journal\n",
    "data['journal_cleaned'] = data['journal_cleaned'].str.strip()\n",
    "# Remove Stop Words from journal\n",
    "data['journal_cleaned'] = data['journal_cleaned'].apply(lambda x: ' '.join([word for word in x.split() if word not in (stop)]))\n",
    "# Change journal to title case\n",
    "data['journal_cleaned'] = data['journal_cleaned'].str.upper()\n",
    "\n",
    "#top 5 Journals and number of articles for each\n",
    "data['journal_cleaned'].value_counts().head(6)"
   ]
  },
  {
   "cell_type": "code",
   "execution_count": 5,
   "metadata": {},
   "outputs": [
    {
     "name": "stdout",
     "output_type": "stream",
     "text": [
      "The Top 5 Journals and total Articles for each:\n",
      "(with a tie for 5th)\n"
     ]
    },
    {
     "data": {
      "text/plain": [
       "Other                           1782\n",
       "PLOS ONE                         191\n",
       "JOURNAL BIOLOGICAL CHEMISTRY      51\n",
       "NEUROIMAGE                        29\n",
       "NUCLEIC ACIDS RESEARCH            26\n",
       "PLOS PATHOGENS                    24\n",
       "PLOS GENETICS                     24\n",
       "Name: journal_cleaned, dtype: int64"
      ]
     },
     "execution_count": 5,
     "metadata": {},
     "output_type": "execute_result"
    }
   ],
   "source": [
    "data['journal_cleaned']\n",
    "top_5 = ['PLOS ONE', 'JOURNAL BIOLOGICAL CHEMISTRY', 'NEUROIMAGE', 'NUCLEIC ACIDS RESEARCH', 'PLOS GENETICS', 'PLOS PATHOGENS']\n",
    "data.loc[~data['journal_cleaned'].isin(top_5), 'journal_cleaned'] = \"Other\"\n",
    "print('The Top 5 Journals and total Articles for each:')\n",
    "print('(with a tie for 5th)')\n",
    "data['journal_cleaned'].value_counts()"
   ]
  },
  {
   "cell_type": "markdown",
   "metadata": {},
   "source": [
    "### 2. For each Journal calculate the mean, median, and standard deviation of the open-access cost per article."
   ]
  },
  {
   "cell_type": "markdown",
   "metadata": {},
   "source": [
    "As we know from our value type analysis above. the cost values are objects, so we will need to change them to a numeric type."
   ]
  },
  {
   "cell_type": "code",
   "execution_count": 46,
   "metadata": {},
   "outputs": [
    {
     "data": {
      "text/plain": [
       "'1674$'"
      ]
     },
     "execution_count": 46,
     "metadata": {},
     "output_type": "execute_result"
    }
   ],
   "source": [
    "# Cost\n",
    "# Create a new cost column in a numeric type\n",
    "# Recieved an error and found a single entry of '1674$'. This was preventing us from changing the type to numeric. Solution was adding 'errors='coerce'' to change that to the missing value it is.\n",
    "data['cost'] = pd.to_numeric(data['COST (£) charged to Wellcome (inc VAT when charged)'].str.strip('£'), errors='coerce')\n",
    "\n",
    "# display error\n",
    "data['COST (£) charged to Wellcome (inc VAT when charged)'].loc[178]"
   ]
  },
  {
   "cell_type": "code",
   "execution_count": 8,
   "metadata": {},
   "outputs": [],
   "source": [
    "# filter on journal to create seperate dataframes\n",
    "plos_one = data.loc[data['journal_cleaned'] == 'PLOS ONE']\n",
    "bio_chem = data.loc[data['journal_cleaned'] == 'JOURNAL BIOLOGICAL CHEMISTRY']\n",
    "neuroimage = data.loc[data['journal_cleaned'] == 'NEUROIMAGE']\n",
    "nucleic_acid = data.loc[data['journal_cleaned'] == 'NUCLEIC ACIDS RESEARCH']\n",
    "plos_genetics = data.loc[data['journal_cleaned'] == 'PLOS GENETICS']\n",
    "plos_pathogens = data.loc[data['journal_cleaned'] == 'PLOS PATHOGENS']"
   ]
  },
  {
   "cell_type": "code",
   "execution_count": 45,
   "metadata": {},
   "outputs": [],
   "source": [
    "# function to print the answers to our question.\n",
    "def journal_calc(journal):\n",
    "    print(''.join(journal['journal_cleaned'].unique()))\n",
    "    print('Mean: ' + str(journal['cost'].mean()))\n",
    "    print('Median: ' + str(journal['cost'].median()))\n",
    "    print('Standard Deviation: ' + str(journal['cost'].std()))"
   ]
  },
  {
   "cell_type": "code",
   "execution_count": 49,
   "metadata": {},
   "outputs": [
    {
     "name": "stdout",
     "output_type": "stream",
     "text": [
      "PLOS ONE\n",
      "Mean: 38552.857905759156\n",
      "Median: 897.61\n",
      "Standard Deviation: 188531.40909246643\n",
      "\n",
      "JOURNAL BIOLOGICAL CHEMISTRY\n",
      "Mean: 20990.932941176467\n",
      "Median: 1286.86\n",
      "Standard Deviation: 139830.9526257881\n",
      "\n",
      "NEUROIMAGE\n",
      "Mean: 2215.168275862069\n",
      "Median: 2326.43\n",
      "Standard Deviation: 266.65394691928987\n",
      "\n",
      "NUCLEIC ACIDS RESEARCH\n",
      "Mean: 1149.0\n",
      "Median: 852.0\n",
      "Standard Deviation: 442.9404474644419\n",
      "\n",
      "PLOS GENETICS\n",
      "Mean: 84839.43500000001\n",
      "Median: 1718.3899999999999\n",
      "Standard Deviation: 281865.7077944168\n",
      "\n",
      "PLOS PATHOGENS\n",
      "Mean: 112525.16277777778\n",
      "Median: 1684.0\n",
      "Standard Deviation: 322866.0785688621\n",
      "\n"
     ]
    }
   ],
   "source": [
    "#run our journals through our journal_calc funciton above.\n",
    "separate_journals = [plos_one, bio_chem, neuroimage, nucleic_acid, plos_genetics, plos_pathogens]\n",
    "\n",
    "for journal in separate_journals:\n",
    "    journal_calc(journal)\n",
    "    print()"
   ]
  },
  {
   "cell_type": "markdown",
   "metadata": {},
   "source": [
    "Several of the Journals have to an extremely high mean. We will need to dig deeper into the cost values to see what is going on."
   ]
  },
  {
   "cell_type": "code",
   "execution_count": 50,
   "metadata": {},
   "outputs": [
    {
     "data": {
      "text/html": [
       "<div>\n",
       "<style scoped>\n",
       "    .dataframe tbody tr th:only-of-type {\n",
       "        vertical-align: middle;\n",
       "    }\n",
       "\n",
       "    .dataframe tbody tr th {\n",
       "        vertical-align: top;\n",
       "    }\n",
       "\n",
       "    .dataframe thead th {\n",
       "        text-align: right;\n",
       "    }\n",
       "</style>\n",
       "<table border=\"1\" class=\"dataframe\">\n",
       "  <thead>\n",
       "    <tr style=\"text-align: right;\">\n",
       "      <th></th>\n",
       "      <th>cost</th>\n",
       "    </tr>\n",
       "  </thead>\n",
       "  <tbody>\n",
       "    <tr>\n",
       "      <th>count</th>\n",
       "      <td>2114.000000</td>\n",
       "    </tr>\n",
       "    <tr>\n",
       "      <th>mean</th>\n",
       "      <td>24206.441892</td>\n",
       "    </tr>\n",
       "    <tr>\n",
       "      <th>std</th>\n",
       "      <td>147300.992149</td>\n",
       "    </tr>\n",
       "    <tr>\n",
       "      <th>min</th>\n",
       "      <td>0.000000</td>\n",
       "    </tr>\n",
       "    <tr>\n",
       "      <th>25%</th>\n",
       "      <td>1280.000000</td>\n",
       "    </tr>\n",
       "    <tr>\n",
       "      <th>50%</th>\n",
       "      <td>1889.950000</td>\n",
       "    </tr>\n",
       "    <tr>\n",
       "      <th>75%</th>\n",
       "      <td>2322.315000</td>\n",
       "    </tr>\n",
       "    <tr>\n",
       "      <th>max</th>\n",
       "      <td>999999.000000</td>\n",
       "    </tr>\n",
       "  </tbody>\n",
       "</table>\n",
       "</div>"
      ],
      "text/plain": [
       "                cost\n",
       "count    2114.000000\n",
       "mean    24206.441892\n",
       "std    147300.992149\n",
       "min         0.000000\n",
       "25%      1280.000000\n",
       "50%      1889.950000\n",
       "75%      2322.315000\n",
       "max    999999.000000"
      ]
     },
     "execution_count": 50,
     "metadata": {},
     "output_type": "execute_result"
    }
   ],
   "source": [
    "# analyze Cost\n",
    "data.describe()\n",
    "\n",
    "#data = data.groupby('journal_cleaned').agg({'cost': 'sum'})\n",
    "#data.sort_values(by='cost', ascending=False).head()"
   ]
  },
  {
   "cell_type": "markdown",
   "metadata": {},
   "source": [
    "The top 25 percentile seems to contain some null values disguised as 999999"
   ]
  },
  {
   "cell_type": "code",
   "execution_count": 51,
   "metadata": {},
   "outputs": [
    {
     "data": {
      "text/html": [
       "<div>\n",
       "<style scoped>\n",
       "    .dataframe tbody tr th:only-of-type {\n",
       "        vertical-align: middle;\n",
       "    }\n",
       "\n",
       "    .dataframe tbody tr th {\n",
       "        vertical-align: top;\n",
       "    }\n",
       "\n",
       "    .dataframe thead th {\n",
       "        text-align: right;\n",
       "    }\n",
       "</style>\n",
       "<table border=\"1\" class=\"dataframe\">\n",
       "  <thead>\n",
       "    <tr style=\"text-align: right;\">\n",
       "      <th></th>\n",
       "      <th>PMID/PMCID</th>\n",
       "      <th>Publisher</th>\n",
       "      <th>Journal title</th>\n",
       "      <th>Article title</th>\n",
       "      <th>COST (£) charged to Wellcome (inc VAT when charged)</th>\n",
       "      <th>journal_cleaned</th>\n",
       "      <th>cost</th>\n",
       "    </tr>\n",
       "  </thead>\n",
       "  <tbody>\n",
       "    <tr>\n",
       "      <th>149</th>\n",
       "      <td>PMC3234811</td>\n",
       "      <td>ASBMB</td>\n",
       "      <td>Journal of Biological Chemistry</td>\n",
       "      <td>Picomolar nitric oxide signals from central ne...</td>\n",
       "      <td>£999999.00</td>\n",
       "      <td>JOURNAL BIOLOGICAL CHEMISTRY</td>\n",
       "      <td>999999.0</td>\n",
       "    </tr>\n",
       "    <tr>\n",
       "      <th>227</th>\n",
       "      <td>3708772</td>\n",
       "      <td>BioMed Central</td>\n",
       "      <td>BMC Genomics.</td>\n",
       "      <td>Phenotypic, genomic, and transcriptional chara...</td>\n",
       "      <td>£999999.00</td>\n",
       "      <td>Other</td>\n",
       "      <td>999999.0</td>\n",
       "    </tr>\n",
       "    <tr>\n",
       "      <th>277</th>\n",
       "      <td>PMC3668259</td>\n",
       "      <td>BMC</td>\n",
       "      <td>Trials</td>\n",
       "      <td>Community resource centres to improve the heal...</td>\n",
       "      <td>£999999.00</td>\n",
       "      <td>Other</td>\n",
       "      <td>999999.0</td>\n",
       "    </tr>\n",
       "    <tr>\n",
       "      <th>358</th>\n",
       "      <td>PMC3219211</td>\n",
       "      <td>Cambridge University Press</td>\n",
       "      <td>Expert Reviews in Molecular Medicine</td>\n",
       "      <td>Pharmacological targets in the ubiquitin syste...</td>\n",
       "      <td>£999999.00</td>\n",
       "      <td>Other</td>\n",
       "      <td>999999.0</td>\n",
       "    </tr>\n",
       "    <tr>\n",
       "      <th>404</th>\n",
       "      <td>PMC3533396</td>\n",
       "      <td>Company of Biologists</td>\n",
       "      <td>Journal of Cell Science</td>\n",
       "      <td>PKA isoforms coordinate mRNA fate during nutri...</td>\n",
       "      <td>£999999.00</td>\n",
       "      <td>Other</td>\n",
       "      <td>999999.0</td>\n",
       "    </tr>\n",
       "  </tbody>\n",
       "</table>\n",
       "</div>"
      ],
      "text/plain": [
       "      PMID/PMCID                   Publisher  \\\n",
       "149   PMC3234811                       ASBMB   \n",
       "227      3708772             BioMed Central    \n",
       "277  PMC3668259                          BMC   \n",
       "358   PMC3219211  Cambridge University Press   \n",
       "404   PMC3533396       Company of Biologists   \n",
       "\n",
       "                            Journal title  \\\n",
       "149       Journal of Biological Chemistry   \n",
       "227                         BMC Genomics.   \n",
       "277                                Trials   \n",
       "358  Expert Reviews in Molecular Medicine   \n",
       "404               Journal of Cell Science   \n",
       "\n",
       "                                         Article title  \\\n",
       "149  Picomolar nitric oxide signals from central ne...   \n",
       "227  Phenotypic, genomic, and transcriptional chara...   \n",
       "277  Community resource centres to improve the heal...   \n",
       "358  Pharmacological targets in the ubiquitin syste...   \n",
       "404  PKA isoforms coordinate mRNA fate during nutri...   \n",
       "\n",
       "    COST (£) charged to Wellcome (inc VAT when charged)  \\\n",
       "149                                         £999999.00    \n",
       "227                                         £999999.00    \n",
       "277                                         £999999.00    \n",
       "358                                         £999999.00    \n",
       "404                                         £999999.00    \n",
       "\n",
       "                  journal_cleaned      cost  \n",
       "149  JOURNAL BIOLOGICAL CHEMISTRY  999999.0  \n",
       "227                         Other  999999.0  \n",
       "277                         Other  999999.0  \n",
       "358                         Other  999999.0  \n",
       "404                         Other  999999.0  "
      ]
     },
     "execution_count": 51,
     "metadata": {},
     "output_type": "execute_result"
    }
   ],
   "source": [
    "data[data['cost'] > 999998].head()"
   ]
  },
  {
   "cell_type": "markdown",
   "metadata": {},
   "source": [
    "It doesn't look like the nulls are isolated to a single journal"
   ]
  },
  {
   "cell_type": "code",
   "execution_count": 34,
   "metadata": {},
   "outputs": [
    {
     "data": {
      "text/html": [
       "<div>\n",
       "<style scoped>\n",
       "    .dataframe tbody tr th:only-of-type {\n",
       "        vertical-align: middle;\n",
       "    }\n",
       "\n",
       "    .dataframe tbody tr th {\n",
       "        vertical-align: top;\n",
       "    }\n",
       "\n",
       "    .dataframe thead th {\n",
       "        text-align: right;\n",
       "    }\n",
       "</style>\n",
       "<table border=\"1\" class=\"dataframe\">\n",
       "  <thead>\n",
       "    <tr style=\"text-align: right;\">\n",
       "      <th></th>\n",
       "      <th>PMID/PMCID</th>\n",
       "      <th>Publisher</th>\n",
       "      <th>Journal title</th>\n",
       "      <th>Article title</th>\n",
       "      <th>COST (£) charged to Wellcome (inc VAT when charged)</th>\n",
       "      <th>journal_cleaned</th>\n",
       "      <th>cost</th>\n",
       "    </tr>\n",
       "  </thead>\n",
       "  <tbody>\n",
       "    <tr>\n",
       "      <th>1987</th>\n",
       "      <td>PMC3664409\\n\\n</td>\n",
       "      <td>Wiley</td>\n",
       "      <td>Movement Disorders</td>\n",
       "      <td>Limb amputations in fixed dystonia: a form of ...</td>\n",
       "      <td>£201024.00</td>\n",
       "      <td>Other</td>\n",
       "      <td>201024.0</td>\n",
       "    </tr>\n",
       "    <tr>\n",
       "      <th>1470</th>\n",
       "      <td>3547931</td>\n",
       "      <td>Public Library of Science</td>\n",
       "      <td>PLoS One</td>\n",
       "      <td>Reducing stock-outs of life saving Malaria Com...</td>\n",
       "      <td>£192645.00</td>\n",
       "      <td>PLOS ONE</td>\n",
       "      <td>192645.0</td>\n",
       "    </tr>\n",
       "    <tr>\n",
       "      <th>986</th>\n",
       "      <td>NaN</td>\n",
       "      <td>MacMillan</td>\n",
       "      <td></td>\n",
       "      <td>Fungal Disease in Britain and the United State...</td>\n",
       "      <td>£13200.00</td>\n",
       "      <td>Other</td>\n",
       "      <td>13200.0</td>\n",
       "    </tr>\n",
       "    <tr>\n",
       "      <th>1619</th>\n",
       "      <td>543219</td>\n",
       "      <td>public.service.co.uk</td>\n",
       "      <td>Public Service Review</td>\n",
       "      <td>Laboratory Science in Tropical Medicine</td>\n",
       "      <td>£6000.00</td>\n",
       "      <td>Other</td>\n",
       "      <td>6000.0</td>\n",
       "    </tr>\n",
       "    <tr>\n",
       "      <th>800</th>\n",
       "      <td>PMID: 23041239 /PMCID: PMC3490334</td>\n",
       "      <td>Elsevier</td>\n",
       "      <td>The Lancet Neurology</td>\n",
       "      <td>Genetic risk factors for ischaemic stroke and ...</td>\n",
       "      <td>£5760.00</td>\n",
       "      <td>Other</td>\n",
       "      <td>5760.0</td>\n",
       "    </tr>\n",
       "  </tbody>\n",
       "</table>\n",
       "</div>"
      ],
      "text/plain": [
       "                             PMID/PMCID                  Publisher  \\\n",
       "1987                     PMC3664409\\n\\n                      Wiley   \n",
       "1470                            3547931  Public Library of Science   \n",
       "986                                 NaN                  MacMillan   \n",
       "1619                             543219       public.service.co.uk   \n",
       "800   PMID: 23041239 /PMCID: PMC3490334                   Elsevier   \n",
       "\n",
       "              Journal title  \\\n",
       "1987     Movement Disorders   \n",
       "1470               PLoS One   \n",
       "986                           \n",
       "1619  Public Service Review   \n",
       "800    The Lancet Neurology   \n",
       "\n",
       "                                          Article title  \\\n",
       "1987  Limb amputations in fixed dystonia: a form of ...   \n",
       "1470  Reducing stock-outs of life saving Malaria Com...   \n",
       "986   Fungal Disease in Britain and the United State...   \n",
       "1619            Laboratory Science in Tropical Medicine   \n",
       "800   Genetic risk factors for ischaemic stroke and ...   \n",
       "\n",
       "     COST (£) charged to Wellcome (inc VAT when charged) journal_cleaned  \\\n",
       "1987                                         £201024.00            Other   \n",
       "1470                                         £192645.00         PLOS ONE   \n",
       "986                                           £13200.00            Other   \n",
       "1619                                           £6000.00            Other   \n",
       "800                                            £5760.00            Other   \n",
       "\n",
       "          cost  \n",
       "1987  201024.0  \n",
       "1470  192645.0  \n",
       "986    13200.0  \n",
       "1619    6000.0  \n",
       "800     5760.0  "
      ]
     },
     "execution_count": 34,
     "metadata": {},
     "output_type": "execute_result"
    }
   ],
   "source": [
    "data[data['cost'] < 999999].sort_values(by='cost', ascending=False).head()"
   ]
  },
  {
   "cell_type": "markdown",
   "metadata": {},
   "source": [
    "There are only 3 outliers on the high end outside of the 999999 nulls. After that point the cost lowers back down to a sub £6000 range.\n",
    "\n",
    "There appears to be a significant number of £999,999 values for the cost collumn. A possible reason for that could be the result of there being no value for the specific article when the data was entered.\n",
    "\n",
    "Lets filter for cost values < 999999 and run our calculations again to see if they are more accurate."
   ]
  },
  {
   "cell_type": "code",
   "execution_count": 60,
   "metadata": {},
   "outputs": [],
   "source": [
    "clean_journals = []\n",
    "\n",
    "def filter_cost(journal):\n",
    "    journal = journal[journal['cost'] < 999999]\n",
    "    return clean_journals.append(journal)\n",
    "\n",
    "for journal in separate_journals:\n",
    "    filter_cost(journal)"
   ]
  },
  {
   "cell_type": "code",
   "execution_count": 62,
   "metadata": {},
   "outputs": [
    {
     "name": "stdout",
     "output_type": "stream",
     "text": [
      "PLOS ONE\n",
      "Mean: 1976.1025\n",
      "Median: 896.975\n",
      "Standard Deviation: 14134.534902134803\n",
      "\n",
      "JOURNAL BIOLOGICAL CHEMISTRY\n",
      "Mean: 1410.7716\n",
      "Median: 1281.4699999999998\n",
      "Standard Deviation: 424.60878010263156\n",
      "\n",
      "NEUROIMAGE\n",
      "Mean: 2215.168275862069\n",
      "Median: 2326.43\n",
      "Standard Deviation: 266.65394691928987\n",
      "\n",
      "NUCLEIC ACIDS RESEARCH\n",
      "Mean: 1149.0\n",
      "Median: 852.0\n",
      "Standard Deviation: 442.9404474644419\n",
      "\n",
      "PLOS GENETICS\n",
      "Mean: 1643.1109090909092\n",
      "Median: 1712.73\n",
      "Standard Deviation: 153.36682533527224\n",
      "\n",
      "PLOS PATHOGENS\n",
      "Mean: 1590.933125\n",
      "Median: 1623.505\n",
      "Standard Deviation: 183.17405823310062\n",
      "\n"
     ]
    }
   ],
   "source": [
    "for journal in clean_journals:\n",
    "    journal_calc(journal)\n",
    "    print()"
   ]
  },
  {
   "cell_type": "markdown",
   "metadata": {},
   "source": [
    "Above are more accurate estimates for the top Journals.\n",
    "\n",
    "### Futher Cleaning & Analysis\n",
    "Additional analysis could be done by analyzing the articles by subject as well as by publisher, or even to see if different subjects have higher cost than others."
   ]
  }
 ],
 "metadata": {
  "kernelspec": {
   "display_name": "Python 3",
   "language": "python",
   "name": "python3"
  },
  "language_info": {
   "codemirror_mode": {
    "name": "ipython",
    "version": 3
   },
   "file_extension": ".py",
   "mimetype": "text/x-python",
   "name": "python",
   "nbconvert_exporter": "python",
   "pygments_lexer": "ipython3",
   "version": "3.7.1"
  }
 },
 "nbformat": 4,
 "nbformat_minor": 2
}
